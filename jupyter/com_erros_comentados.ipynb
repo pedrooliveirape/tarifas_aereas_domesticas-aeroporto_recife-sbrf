{
 "cells": [
  {
   "cell_type": "code",
   "execution_count": 86,
   "id": "cc8e8044-6702-4b90-bf41-5964225b5195",
   "metadata": {},
   "outputs": [],
   "source": [
    "import pandas as pd\n",
    "import csv\n",
    "import os"
   ]
  },
  {
   "cell_type": "markdown",
   "id": "545828e5-8b55-464f-bf77-5d8ecbd26a27",
   "metadata": {},
   "source": [
    "### Lista de arquivos\n",
    "\n",
    "Criando uma lista de arquivos utilizando o pacote os"
   ]
  },
  {
   "cell_type": "code",
   "execution_count": 87,
   "id": "e9b8582c-bccb-449c-a6d2-a70af01595a2",
   "metadata": {},
   "outputs": [
    {
     "name": "stdout",
     "output_type": "stream",
     "text": [
      "['201801.CSV', '201802.CSV', '201803.CSV', '201804.CSV', '201805.CSV', '201806.CSV', '201807.CSV', '201808.CSV', '201809.CSV', '201810.CSV', '201811.CSV', '201812.CSV', '201901.CSV', '201902.CSV', '201903.CSV', '201904.CSV', '201905.CSV', '201906.CSV', '201907.CSV', '201908.CSV', '201909.CSV', '201910.CSV', '201911.CSV', '201912.CSV', '202001.CSV', '202002.CSV', '202003.CSV', '202004.CSV', '202005.CSV', '202006.CSV', '202007.CSV', '202008.CSV', '202009.CSV', '202010.CSV', '202011.CSV', '202012.CSV', '202101.CSV', '202102.CSV', '202103.CSV', '202104.CSV', '202105.CSV', '202106.CSV', '202107.CSV', '202108.CSV', '202109.CSV', '202110.CSV', '202111.CSV', '202112.CSV', '202201.CSV', '202202.CSV', '202203.CSV', '202204.CSV', '202205.CSV', '202206.CSV', '202207.CSV', '202208.CSV']\n"
     ]
    }
   ],
   "source": [
    "dir_list = []\n",
    "for l in os.listdir(\"C:\\workspace\\dash-voos-sbrf\\datasets\"):\n",
    "    if l.endswith(\".CSV\"):\n",
    "        dir_list.append(l)\n",
    "print(dir_list)"
   ]
  },
  {
   "cell_type": "code",
   "execution_count": 110,
   "id": "1e95f1e9-9964-4d80-a43f-bfd5ae10dd44",
   "metadata": {},
   "outputs": [],
   "source": [
    "df_sbrf = pd.DataFrame(columns=['ANO','MES','EMPRESA','ORIGEM','DESTINO','TARIFA','ASSENTOS'])"
   ]
  },
  {
   "cell_type": "markdown",
   "id": "48468a53-de9e-4992-94cb-f51bc6dadf6a",
   "metadata": {},
   "source": [
    "### UnicodeDecodeError\n",
    "\n",
    "UnicodeDecodeError: 'utf-8' codec can't decode byte 0xea in position 12: invalid continuation byte\n",
    "\n",
    "O erro foi causado possivelmente pelo Python estar pegando o enconding local da máquina e este não ser utf-8.\n",
    "\n",
    "A solução é declarar o enconding diretamente na codificação.\n",
    "\n",
    "PS: declarar o enconding utf-8 não funcionou, foi necessario declarar o encoding='ISO-8859-1'."
   ]
  },
  {
   "cell_type": "code",
   "execution_count": null,
   "id": "6c476ca0-f384-4fd0-aa45-10e8e3c9aa6e",
   "metadata": {},
   "outputs": [],
   "source": [
    "for c in range(len(dir_list)):\n",
    "    df_temp = pd.read_csv(dir_list[c], sep=';')\n",
    "    df_temp = df_temp.loc[(df_temp.ORIGEM == 'SBRF')]\n",
    "    df_sbrf = pd.concat([df_sbrf, df_temp], ignore_index=True)"
   ]
  },
  {
   "cell_type": "markdown",
   "id": "746d4c64-06a5-4c4d-a5a6-87948e5932a2",
   "metadata": {},
   "source": [
    "### AttributeError\n",
    "\n",
    "AttributeError: 'DataFrame' object has no attribute 'ORIGEM'\n",
    "\n",
    "Isso ocorreu pois alguns dos arquivos CSV tem o cabeçalho diferente.\n",
    "\n",
    "A solução foi usar *df_temp.columns = ['ANO','MES','EMPRESA','ORIGEM','DESTINO','TARIFA','ASSENTOS']* para alterar os nomes das colunas"
   ]
  },
  {
   "cell_type": "code",
   "execution_count": null,
   "id": "3621025e-6849-4d7f-ac98-d1c936810b5d",
   "metadata": {},
   "outputs": [],
   "source": [
    "for c in range(len(dir_list)):\n",
    "    df_temp = pd.read_csv(dir_list[c], encoding='ISO-8859-1', sep=';')\n",
    "    df_temp = df_temp.loc[(df_temp.ORIGEM == 'SBRF')]\n",
    "    df_sbrf = pd.concat([df_sbrf, df_temp], ignore_index=True)"
   ]
  },
  {
   "cell_type": "code",
   "execution_count": 96,
   "id": "781ad41a-ae64-454d-aec3-8c902c5c8ab2",
   "metadata": {},
   "outputs": [
    {
     "name": "stdout",
     "output_type": "stream",
     "text": [
      "erro no arquivo: 201802.CSV\n",
      "erro no arquivo: 201803.CSV\n",
      "erro no arquivo: 201804.CSV\n",
      "erro no arquivo: 201805.CSV\n",
      "erro no arquivo: 201806.CSV\n",
      "erro no arquivo: 201807.CSV\n",
      "erro no arquivo: 201808.CSV\n",
      "erro no arquivo: 201810.CSV\n",
      "erro no arquivo: 201811.CSV\n",
      "erro no arquivo: 201812.CSV\n",
      "erro no arquivo: 201903.CSV\n",
      "erro no arquivo: 201912.CSV\n",
      "erro no arquivo: 202001.CSV\n",
      "erro no arquivo: 202002.CSV\n",
      "erro no arquivo: 202003.CSV\n",
      "erro no arquivo: 202005.CSV\n",
      "erro no arquivo: 202006.CSV\n",
      "erro no arquivo: 202007.CSV\n",
      "erro no arquivo: 202008.CSV\n",
      "erro no arquivo: 202009.CSV\n",
      "erro no arquivo: 202010.CSV\n",
      "erro no arquivo: 202011.CSV\n",
      "erro no arquivo: 202012.CSV\n",
      "erro no arquivo: 202102.CSV\n",
      "erro no arquivo: 202103.CSV\n",
      "erro no arquivo: 202104.CSV\n",
      "erro no arquivo: 202106.CSV\n",
      "erro no arquivo: 202107.CSV\n",
      "erro no arquivo: 202108.CSV\n",
      "erro no arquivo: 202112.CSV\n",
      "erro no arquivo: 202201.CSV\n",
      "erro no arquivo: 202202.CSV\n",
      "erro no arquivo: 202203.CSV\n",
      "erro no arquivo: 202204.CSV\n"
     ]
    }
   ],
   "source": [
    "for c in range(len(dir_list)):\n",
    "    try:\n",
    "        df_temp = pd.read_csv(dir_list[c], encoding='ISO-8859-1', sep=';')\n",
    "        df_temp = df_temp.loc[(df_temp.ORIGEM == 'SBRF')]\n",
    "        df_sbrf = pd.concat([df_sbrf, df_temp], ignore_index=True)\n",
    "    except:\n",
    "        print(f'erro no arquivo: {dir_list[c]}')"
   ]
  },
  {
   "cell_type": "markdown",
   "id": "7389b6a4-d9c5-40e6-a55e-f2abc14685a0",
   "metadata": {},
   "source": [
    "### ValueError\n",
    "\n",
    "ValueError: Length mismatch: Expected axis has 8 elements, new values have 7 elements\n",
    "\n",
    "**Problema 1**: Haviam dois arquivos CSV com uma coluna de índice, acarretando a discrepância entre as quantidades de colunas.\n",
    "\n",
    "**Solução 1**: Utilizar a função *df_temp.drop('', axis=1, inplace=True)* para excluir a coluna de índice indesejada.\n",
    "\n",
    "**Problema 2**: Continuou a dar problema porque não estava esncontrando a coluna \"\"\n",
    "\n",
    "**Solução 2**: Utilizar a função *df_temp.columns.values[0] = 'excluir'* para renomear a coluna de nome vazio para *excluir* e depois utilizar a primeira solução novamente."
   ]
  },
  {
   "cell_type": "code",
   "execution_count": null,
   "id": "484c916f-0a79-4161-96ce-1716960ac647",
   "metadata": {},
   "outputs": [],
   "source": [
    "for c in range(len(dir_list)):\n",
    "    df_temp = pd.read_csv(dir_list[c], encoding='ISO-8859-1', sep=';')\n",
    "    df_temp.columns = ['ANO','MES','EMPRESA','ORIGEM','DESTINO','TARIFA','ASSENTOS']\n",
    "    df_temp = df_temp.loc[(df_temp.ORIGEM == 'SBRF')]\n",
    "    df_sbrf = pd.concat([df_sbrf, df_temp], ignore_index=True)"
   ]
  },
  {
   "cell_type": "code",
   "execution_count": 98,
   "id": "1498494b-479b-483b-8847-8935a4913b05",
   "metadata": {},
   "outputs": [
    {
     "name": "stdout",
     "output_type": "stream",
     "text": [
      "erro no arquivo: 202112.CSV\n",
      "erro no arquivo: 202204.CSV\n"
     ]
    }
   ],
   "source": [
    "for c in range(len(dir_list)):\n",
    "    try:\n",
    "        df_temp = pd.read_csv(dir_list[c], encoding='ISO-8859-1', sep=';')\n",
    "        df_temp.columns = ['ANO','MES','EMPRESA','ORIGEM','DESTINO','TARIFA','ASSENTOS']\n",
    "        df_temp = df_temp.loc[(df_temp.ORIGEM == 'SBRF')]\n",
    "        df_sbrf = pd.concat([df_sbrf, df_temp], ignore_index=True)\n",
    "    except:\n",
    "        print(f'erro no arquivo: {dir_list[c]}')"
   ]
  },
  {
   "cell_type": "code",
   "execution_count": null,
   "id": "b499a878-4164-42b0-ba82-a3d6e0ca3052",
   "metadata": {},
   "outputs": [],
   "source": [
    "# Ainda não funcionou, não encontrou um coluna ''.\n",
    "\n",
    "for c in range(len(dir_list)):\n",
    "    try:\n",
    "        df_temp = pd.read_csv(dir_list[c], encoding='ISO-8859-1', sep=';')\n",
    "        df_temp.columns = ['ANO','MES','EMPRESA','ORIGEM','DESTINO','TARIFA','ASSENTOS']\n",
    "        df_temp = df_temp.loc[(df_temp.ORIGEM == 'SBRF')]\n",
    "        df_sbrf = pd.concat([df_sbrf, df_temp], ignore_index=True)\n",
    "    except ValueError:\n",
    "        df_temp = pd.read_csv(dir_list[c], encoding='ISO-8859-1', sep=';')\n",
    "        df_temp.drop(\"\", axis=1, inplace=True)\n",
    "        df_temp.columns = ['ANO','MES','EMPRESA','ORIGEM','DESTINO','TARIFA','ASSENTOS']\n",
    "        df_temp = df_temp.loc[(df_temp.ORIGEM == 'SBRF')]\n",
    "        df_sbrf = pd.concat([df_sbrf, df_temp], ignore_index=True)"
   ]
  },
  {
   "cell_type": "code",
   "execution_count": 111,
   "id": "e9212030-ba10-4232-ba80-e28772bf705e",
   "metadata": {},
   "outputs": [],
   "source": [
    "for c in range(len(dir_list)):\n",
    "    try:\n",
    "        df_temp = pd.read_csv(dir_list[c], encoding='ISO-8859-1', sep=';')\n",
    "        df_temp.columns = ['ANO','MES','EMPRESA','ORIGEM','DESTINO','TARIFA','ASSENTOS']\n",
    "        df_temp = df_temp.loc[(df_temp.ORIGEM == 'SBRF')]\n",
    "        df_sbrf = pd.concat([df_sbrf, df_temp], ignore_index=True)\n",
    "    except ValueError:\n",
    "        df_temp = pd.read_csv(dir_list[c], encoding='ISO-8859-1', sep=';')\n",
    "        df_temp.columns.values[0] = 'excluir'\n",
    "        df_temp.drop('excluir', axis=1, inplace=True)\n",
    "        df_temp.columns = ['ANO','MES','EMPRESA','ORIGEM','DESTINO','TARIFA','ASSENTOS']\n",
    "        df_temp = df_temp.loc[(df_temp.ORIGEM == 'SBRF')]\n",
    "        df_sbrf = pd.concat([df_sbrf, df_temp], ignore_index=True)"
   ]
  },
  {
   "cell_type": "code",
   "execution_count": 112,
   "id": "2eca56b1-5e90-487c-ba50-28db87a32225",
   "metadata": {},
   "outputs": [
    {
     "data": {
      "text/html": [
       "<div>\n",
       "<style scoped>\n",
       "    .dataframe tbody tr th:only-of-type {\n",
       "        vertical-align: middle;\n",
       "    }\n",
       "\n",
       "    .dataframe tbody tr th {\n",
       "        vertical-align: top;\n",
       "    }\n",
       "\n",
       "    .dataframe thead th {\n",
       "        text-align: right;\n",
       "    }\n",
       "</style>\n",
       "<table border=\"1\" class=\"dataframe\">\n",
       "  <thead>\n",
       "    <tr style=\"text-align: right;\">\n",
       "      <th></th>\n",
       "      <th>ANO</th>\n",
       "      <th>MES</th>\n",
       "      <th>EMPRESA</th>\n",
       "      <th>ORIGEM</th>\n",
       "      <th>DESTINO</th>\n",
       "      <th>TARIFA</th>\n",
       "      <th>ASSENTOS</th>\n",
       "    </tr>\n",
       "  </thead>\n",
       "  <tbody>\n",
       "    <tr>\n",
       "      <th>0</th>\n",
       "      <td>2018</td>\n",
       "      <td>1</td>\n",
       "      <td>AZU</td>\n",
       "      <td>SBRF</td>\n",
       "      <td>SBAE</td>\n",
       "      <td>1007,9</td>\n",
       "      <td>3</td>\n",
       "    </tr>\n",
       "    <tr>\n",
       "      <th>1</th>\n",
       "      <td>2018</td>\n",
       "      <td>1</td>\n",
       "      <td>AZU</td>\n",
       "      <td>SBRF</td>\n",
       "      <td>SBAE</td>\n",
       "      <td>1030,53</td>\n",
       "      <td>1</td>\n",
       "    </tr>\n",
       "    <tr>\n",
       "      <th>2</th>\n",
       "      <td>2018</td>\n",
       "      <td>1</td>\n",
       "      <td>AZU</td>\n",
       "      <td>SBRF</td>\n",
       "      <td>SBAE</td>\n",
       "      <td>1117,9</td>\n",
       "      <td>1</td>\n",
       "    </tr>\n",
       "    <tr>\n",
       "      <th>3</th>\n",
       "      <td>2018</td>\n",
       "      <td>1</td>\n",
       "      <td>AZU</td>\n",
       "      <td>SBRF</td>\n",
       "      <td>SBAE</td>\n",
       "      <td>1157,9</td>\n",
       "      <td>1</td>\n",
       "    </tr>\n",
       "    <tr>\n",
       "      <th>4</th>\n",
       "      <td>2018</td>\n",
       "      <td>1</td>\n",
       "      <td>AZU</td>\n",
       "      <td>SBRF</td>\n",
       "      <td>SBAE</td>\n",
       "      <td>1350,93</td>\n",
       "      <td>1</td>\n",
       "    </tr>\n",
       "    <tr>\n",
       "      <th>...</th>\n",
       "      <td>...</td>\n",
       "      <td>...</td>\n",
       "      <td>...</td>\n",
       "      <td>...</td>\n",
       "      <td>...</td>\n",
       "      <td>...</td>\n",
       "      <td>...</td>\n",
       "    </tr>\n",
       "    <tr>\n",
       "      <th>704222</th>\n",
       "      <td>2022</td>\n",
       "      <td>8</td>\n",
       "      <td>TAM</td>\n",
       "      <td>SBRF</td>\n",
       "      <td>SWSI</td>\n",
       "      <td>1547,01</td>\n",
       "      <td>1</td>\n",
       "    </tr>\n",
       "    <tr>\n",
       "      <th>704223</th>\n",
       "      <td>2022</td>\n",
       "      <td>8</td>\n",
       "      <td>TAM</td>\n",
       "      <td>SBRF</td>\n",
       "      <td>SWSI</td>\n",
       "      <td>1597,00</td>\n",
       "      <td>6</td>\n",
       "    </tr>\n",
       "    <tr>\n",
       "      <th>704224</th>\n",
       "      <td>2022</td>\n",
       "      <td>8</td>\n",
       "      <td>TAM</td>\n",
       "      <td>SBRF</td>\n",
       "      <td>SWSI</td>\n",
       "      <td>1767,01</td>\n",
       "      <td>1</td>\n",
       "    </tr>\n",
       "    <tr>\n",
       "      <th>704225</th>\n",
       "      <td>2022</td>\n",
       "      <td>8</td>\n",
       "      <td>TAM</td>\n",
       "      <td>SBRF</td>\n",
       "      <td>SWSI</td>\n",
       "      <td>1831,99</td>\n",
       "      <td>1</td>\n",
       "    </tr>\n",
       "    <tr>\n",
       "      <th>704226</th>\n",
       "      <td>2022</td>\n",
       "      <td>8</td>\n",
       "      <td>TAM</td>\n",
       "      <td>SBRF</td>\n",
       "      <td>SWSI</td>\n",
       "      <td>1996,00</td>\n",
       "      <td>4</td>\n",
       "    </tr>\n",
       "  </tbody>\n",
       "</table>\n",
       "<p>704227 rows × 7 columns</p>\n",
       "</div>"
      ],
      "text/plain": [
       "         ANO MES EMPRESA ORIGEM DESTINO   TARIFA ASSENTOS\n",
       "0       2018   1     AZU   SBRF    SBAE   1007,9        3\n",
       "1       2018   1     AZU   SBRF    SBAE  1030,53        1\n",
       "2       2018   1     AZU   SBRF    SBAE   1117,9        1\n",
       "3       2018   1     AZU   SBRF    SBAE   1157,9        1\n",
       "4       2018   1     AZU   SBRF    SBAE  1350,93        1\n",
       "...      ...  ..     ...    ...     ...      ...      ...\n",
       "704222  2022   8     TAM   SBRF    SWSI  1547,01        1\n",
       "704223  2022   8     TAM   SBRF    SWSI  1597,00        6\n",
       "704224  2022   8     TAM   SBRF    SWSI  1767,01        1\n",
       "704225  2022   8     TAM   SBRF    SWSI  1831,99        1\n",
       "704226  2022   8     TAM   SBRF    SWSI  1996,00        4\n",
       "\n",
       "[704227 rows x 7 columns]"
      ]
     },
     "execution_count": 112,
     "metadata": {},
     "output_type": "execute_result"
    }
   ],
   "source": [
    "df_sbrf"
   ]
  }
 ],
 "metadata": {
  "kernelspec": {
   "display_name": "Python 3 (ipykernel)",
   "language": "python",
   "name": "python3"
  },
  "language_info": {
   "codemirror_mode": {
    "name": "ipython",
    "version": 3
   },
   "file_extension": ".py",
   "mimetype": "text/x-python",
   "name": "python",
   "nbconvert_exporter": "python",
   "pygments_lexer": "ipython3",
   "version": "3.9.13"
  }
 },
 "nbformat": 4,
 "nbformat_minor": 5
}
