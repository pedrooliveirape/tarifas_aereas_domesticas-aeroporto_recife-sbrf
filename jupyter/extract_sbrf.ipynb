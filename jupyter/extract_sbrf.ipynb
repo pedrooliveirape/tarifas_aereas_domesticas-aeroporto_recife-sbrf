{
 "cells": [
  {
   "cell_type": "code",
   "execution_count": 1,
   "id": "02dda80e-fdd7-4637-baa1-9c785bc2f1e1",
   "metadata": {},
   "outputs": [],
   "source": [
    "import pandas as pd\n",
    "import os"
   ]
  },
  {
   "cell_type": "markdown",
   "id": "1f00db3a-855d-46cd-ae95-55218cdd0509",
   "metadata": {},
   "source": [
    "### Lista de arquivos\n",
    "\n",
    "Criando uma lista de arquivos utilizando o pacote os"
   ]
  },
  {
   "cell_type": "code",
   "execution_count": 2,
   "id": "55b95308-0397-4e7b-973c-f9dd56ee4faa",
   "metadata": {},
   "outputs": [
    {
     "name": "stdout",
     "output_type": "stream",
     "text": [
      "['201801.CSV', '201802.CSV', '201803.CSV', '201804.CSV', '201805.CSV', '201806.CSV', '201807.CSV', '201808.CSV', '201809.CSV', '201810.CSV', '201811.CSV', '201812.CSV', '201901.CSV', '201902.CSV', '201903.CSV', '201904.CSV', '201905.CSV', '201906.CSV', '201907.CSV', '201908.CSV', '201909.CSV', '201910.CSV', '201911.CSV', '201912.CSV', '202001.CSV', '202002.CSV', '202003.CSV', '202004.CSV', '202005.CSV', '202006.CSV', '202007.CSV', '202008.CSV', '202009.CSV', '202010.CSV', '202011.CSV', '202012.CSV', '202101.CSV', '202102.CSV', '202103.CSV', '202104.CSV', '202105.CSV', '202106.CSV', '202107.CSV', '202108.CSV', '202109.CSV', '202110.CSV', '202111.CSV', '202112.CSV', '202201.CSV', '202202.CSV', '202203.CSV', '202204.CSV', '202205.CSV', '202206.CSV', '202207.CSV', '202208.CSV']\n"
     ]
    }
   ],
   "source": [
    "dir_list = []\n",
    "for l in os.listdir(\"C:\\workspace\\dash-voos-sbrf\\datasets\"):\n",
    "    if l.endswith(\".CSV\"):\n",
    "        dir_list.append(l)\n",
    "print(dir_list)"
   ]
  },
  {
   "cell_type": "code",
   "execution_count": 3,
   "id": "efba8032-4309-4d9c-9801-d41c153deffd",
   "metadata": {},
   "outputs": [],
   "source": [
    "df_sbrf = pd.DataFrame(columns=['ANO','MES','EMPRESA','ORIGEM','DESTINO','TARIFA','ASSENTOS'])"
   ]
  },
  {
   "cell_type": "code",
   "execution_count": 4,
   "id": "96b954b4-b710-45c0-930e-5abe03f89242",
   "metadata": {},
   "outputs": [],
   "source": [
    "for c in range(len(dir_list)):\n",
    "    try:\n",
    "        df_temp = pd.read_csv(dir_list[c], encoding='ISO-8859-1', sep=';')\n",
    "        df_temp.columns = ['ANO','MES','EMPRESA','ORIGEM','DESTINO','TARIFA','ASSENTOS']\n",
    "        df_temp = df_temp.loc[(df_temp.ORIGEM == 'SBRF')]\n",
    "        df_sbrf = pd.concat([df_sbrf, df_temp], ignore_index=True)\n",
    "    except ValueError:\n",
    "        df_temp = pd.read_csv(dir_list[c], encoding='ISO-8859-1', sep=';')\n",
    "        df_temp.columns.values[0] = 'excluir'\n",
    "        df_temp.drop('excluir', axis=1, inplace=True)\n",
    "        df_temp.columns = ['ANO','MES','EMPRESA','ORIGEM','DESTINO','TARIFA','ASSENTOS']\n",
    "        df_temp = df_temp.loc[(df_temp.ORIGEM == 'SBRF')]\n",
    "        df_sbrf = pd.concat([df_sbrf, df_temp], ignore_index=True)"
   ]
  },
  {
   "cell_type": "code",
   "execution_count": 5,
   "id": "06c831aa-5aa0-49f5-97bf-1dc2fc5f4a76",
   "metadata": {},
   "outputs": [],
   "source": [
    "df_sbrf.to_csv('flights_sbrf_2018-01_2022-09.csv', index=False, sep=';')"
   ]
  },
  {
   "cell_type": "code",
   "execution_count": null,
   "id": "3fb262ca-f884-4e6f-8677-4f7a548f5c4b",
   "metadata": {},
   "outputs": [],
   "source": []
  }
 ],
 "metadata": {
  "kernelspec": {
   "display_name": "Python 3 (ipykernel)",
   "language": "python",
   "name": "python3"
  },
  "language_info": {
   "codemirror_mode": {
    "name": "ipython",
    "version": 3
   },
   "file_extension": ".py",
   "mimetype": "text/x-python",
   "name": "python",
   "nbconvert_exporter": "python",
   "pygments_lexer": "ipython3",
   "version": "3.9.13"
  }
 },
 "nbformat": 4,
 "nbformat_minor": 5
}
